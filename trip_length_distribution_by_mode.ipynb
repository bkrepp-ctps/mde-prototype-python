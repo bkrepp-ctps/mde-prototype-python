{
 "cells": [
  {
   "cell_type": "code",
   "execution_count": 1,
   "metadata": {},
   "outputs": [],
   "source": [
    "import openmatrix as omx\n",
    "import numpy as np\n",
    "import pandas as pd\n",
    "import matplotlib.pyplot as plt\n",
    "import geopandas"
   ]
  },
  {
   "cell_type": "code",
   "execution_count": 2,
   "metadata": {},
   "outputs": [],
   "source": [
    "# Have matplotlib render plots \"in-line\" rather than in a separate window\n",
    "# %matplotlib"
   ]
  },
  {
   "cell_type": "code",
   "execution_count": 3,
   "metadata": {},
   "outputs": [],
   "source": [
    "trip_tables_file = r'C:/Users/ben_k/work_stuff/tdm/datastore/sample_data/AfterSC_Final_AM_Tables.omx'"
   ]
  },
  {
   "cell_type": "code",
   "execution_count": 4,
   "metadata": {},
   "outputs": [],
   "source": [
    "trip_tables_omx = omx.open_file(trip_tables_file, 'r')"
   ]
  },
  {
   "cell_type": "code",
   "execution_count": 5,
   "metadata": {},
   "outputs": [
    {
     "data": {
      "text/plain": [
       "['Bike',\n",
       " 'DAT_Boat',\n",
       " 'DAT_CR',\n",
       " 'DAT_LB',\n",
       " 'DAT_RT',\n",
       " 'DET_Boat',\n",
       " 'DET_CR',\n",
       " 'DET_LB',\n",
       " 'DET_RT',\n",
       " 'HOV',\n",
       " 'HOV2p',\n",
       " 'HOV3p',\n",
       " 'HOV_Person_Trips',\n",
       " 'Heavy_Truck',\n",
       " 'Heavy_Truck_HazMat',\n",
       " 'Light_Truck',\n",
       " 'Medium_Truck',\n",
       " 'Medium_Truck_HazMat',\n",
       " 'SOV',\n",
       " 'WAT',\n",
       " 'Walk']"
      ]
     },
     "execution_count": 5,
     "metadata": {},
     "output_type": "execute_result"
    }
   ],
   "source": [
    "trip_tables_omx.list_matrices()"
   ]
  },
  {
   "cell_type": "code",
   "execution_count": 6,
   "metadata": {},
   "outputs": [
    {
     "data": {
      "text/plain": [
       "(5839, 5839)"
      ]
     },
     "execution_count": 6,
     "metadata": {},
     "output_type": "execute_result"
    }
   ],
   "source": [
    "trip_tables_omx.shape()"
   ]
  },
  {
   "cell_type": "code",
   "execution_count": 7,
   "metadata": {},
   "outputs": [
    {
     "data": {
      "text/plain": [
       "['CTPS', 'ID', 'MAPC', 'extZ', 'intZ']"
      ]
     },
     "execution_count": 7,
     "metadata": {},
     "output_type": "execute_result"
    }
   ],
   "source": [
    "trip_tables_omx.list_mappings()"
   ]
  },
  {
   "cell_type": "code",
   "execution_count": 8,
   "metadata": {},
   "outputs": [],
   "source": [
    "taz_to_omxid = trip_tables_omx.mapping('ID')"
   ]
  },
  {
   "cell_type": "code",
   "execution_count": 9,
   "metadata": {},
   "outputs": [],
   "source": [
    "skim_file = r'C:/Users/ben_k/work_stuff/tdm/datastore/sample_data/AM_SOV_Skim.omx'"
   ]
  },
  {
   "cell_type": "code",
   "execution_count": 10,
   "metadata": {},
   "outputs": [],
   "source": [
    "skim_omx = omx.open_file(skim_file, 'r')"
   ]
  },
  {
   "cell_type": "code",
   "execution_count": 11,
   "metadata": {},
   "outputs": [
    {
     "data": {
      "text/plain": [
       "['Auto_Toll (Skim)',\n",
       " 'CongTime',\n",
       " 'CongTime_wTerminalTimes',\n",
       " 'Drive_Cost',\n",
       " 'LT_Toll (Skim)',\n",
       " 'Length (Skim)',\n",
       " 'TerminalTimes',\n",
       " 'Total_Cost']"
      ]
     },
     "execution_count": 11,
     "metadata": {},
     "output_type": "execute_result"
    }
   ],
   "source": [
    "skim_omx.list_matrices()"
   ]
  },
  {
   "cell_type": "code",
   "execution_count": 12,
   "metadata": {},
   "outputs": [
    {
     "data": {
      "text/plain": [
       "(5839, 5839)"
      ]
     },
     "execution_count": 12,
     "metadata": {},
     "output_type": "execute_result"
    }
   ],
   "source": [
    "skim_omx.shape()"
   ]
  },
  {
   "cell_type": "code",
   "execution_count": 13,
   "metadata": {},
   "outputs": [
    {
     "data": {
      "text/plain": [
       "5839"
      ]
     },
     "execution_count": 13,
     "metadata": {},
     "output_type": "execute_result"
    }
   ],
   "source": [
    "# Rows and columns in skim tables and trip_tables\n",
    "dim = skim_omx.shape()[0]\n",
    "dim"
   ]
  },
  {
   "cell_type": "code",
   "execution_count": 14,
   "metadata": {},
   "outputs": [
    {
     "data": {
      "text/plain": [
       "['Destination', 'Origin', 'extZ', 'inCTPS', 'intZ']"
      ]
     },
     "execution_count": 14,
     "metadata": {},
     "output_type": "execute_result"
    }
   ],
   "source": [
    "skim_omx.list_mappings()"
   ]
  },
  {
   "cell_type": "code",
   "execution_count": 17,
   "metadata": {},
   "outputs": [],
   "source": [
    "t_lengths = skim_omx['Length (Skim)']"
   ]
  },
  {
   "cell_type": "code",
   "execution_count": 18,
   "metadata": {},
   "outputs": [],
   "source": [
    "t_lengths_np = np.array(t_lengths)"
   ]
  },
  {
   "cell_type": "code",
   "execution_count": 19,
   "metadata": {},
   "outputs": [],
   "source": [
    "t_lengths_flat = t_lengths_np.flatten(order='C')"
   ]
  },
  {
   "cell_type": "code",
   "execution_count": 20,
   "metadata": {},
   "outputs": [],
   "source": [
    "tt_sov = trip_tables_omx['SOV']"
   ]
  },
  {
   "cell_type": "code",
   "execution_count": 21,
   "metadata": {},
   "outputs": [],
   "source": [
    "tt_sov_np =  np.array(tt_sov)"
   ]
  },
  {
   "cell_type": "code",
   "execution_count": 22,
   "metadata": {},
   "outputs": [],
   "source": [
    "tt_sov_flat = tt_sov_np.flatten(order='C')"
   ]
  },
  {
   "cell_type": "code",
   "execution_count": 26,
   "metadata": {},
   "outputs": [],
   "source": [
    "# bins for classification\n",
    "bins =       [ 1.0,      5.0,      10.0,       20.0,       50.0,      100.0,       10000.0 ]"
   ]
  },
  {
   "cell_type": "code",
   "execution_count": 27,
   "metadata": {},
   "outputs": [],
   "source": [
    "classification = np.digitize(t_lengths_flat, bins, right=False)"
   ]
  },
  {
   "cell_type": "code",
   "execution_count": 28,
   "metadata": {},
   "outputs": [],
   "source": [
    "results = [ 0.0, 0.0, 0.0, 0.0, 0.0, 0.0, 0.0 ]"
   ]
  },
  {
   "cell_type": "code",
   "execution_count": 29,
   "metadata": {},
   "outputs": [],
   "source": [
    "for (num_trips, trip_len, bucket_ix) in zip(tt_sov_flat, t_lengths_flat, classification):\n",
    "\tresults[bucket_ix] += num_trips\n",
    "# end_for"
   ]
  },
  {
   "cell_type": "code",
   "execution_count": 30,
   "metadata": {},
   "outputs": [
    {
     "data": {
      "text/plain": [
       "[198066.32308231122,\n",
       " 1502788.8968328047,\n",
       " 902451.9585343441,\n",
       " 682367.0491860535,\n",
       " 383909.3063226921,\n",
       " 82098.10765369986,\n",
       " 18935.982961220136]"
      ]
     },
     "execution_count": 30,
     "metadata": {},
     "output_type": "execute_result"
    }
   ],
   "source": [
    "results"
   ]
  },
  {
   "cell_type": "code",
   "execution_count": 34,
   "metadata": {},
   "outputs": [],
   "source": [
    "bin_labels = [ '< 1 mi', '1-5 mi', '5-10 mi', '10-20 mi', '20-50 mi', '50-100 mi', '> 100 mi' ]"
   ]
  },
  {
   "cell_type": "code",
   "execution_count": 42,
   "metadata": {},
   "outputs": [
    {
     "data": {
      "text/plain": [
       "<BarContainer object of 7 artists>"
      ]
     },
     "execution_count": 42,
     "metadata": {},
     "output_type": "execute_result"
    },
    {
     "data": {
      "image/png": "[encoded data removed]",
      "text/plain": [
       "<Figure size 432x288 with 1 Axes>"
      ]
     },
     "metadata": {
      "needs_background": "light"
     },
     "output_type": "display_data"
    }
   ],
   "source": [
    "names = bin_labels\n",
    "values = results\n",
    "plt.title('SOV Trip Length Distribution')\n",
    "plt.xlabel('Trip Length')\n",
    "plt.ylabel('Number of Trips')\n",
    "plt.bar(bin_labels, results)"
   ]
  },
  {
   "cell_type": "code",
   "execution_count": 43,
   "metadata": {},
   "outputs": [],
   "source": [
    "def get_tld_for_mode(trip_lengths_skim, tt_omx, mode_name, bins):\n",
    "\t# Initialize return value\n",
    "\tresults = [0.0 for x in bins]\n",
    "\t\n",
    "\t# Flatten trip_lengths array\n",
    "\tt_lengths_np = np.array(trip_lengths_skim)\n",
    "\tt_lengths_flat = t_lengths_np.flatten(order='C')\n",
    "\t\n",
    "\t# Number of trips TAZ-to-TAZ using specified mode\n",
    "\ttt = tt_omx[mode_name]\n",
    "\ttt_np =\t np.array(tt)\n",
    "\ttt_flat = tt_np.flatten(order='C')\n",
    "\t\n",
    "\t# Classify trip lengths into bins\n",
    "\tclassification = np.digitize(t_lengths_flat, bins, right=False)\n",
    "\t\n",
    "\tfor (num_trips, bucket_ix) in zip(tt_flat, classification):\n",
    "\t\tresults[bucket_ix] += num_trips\n",
    "\t# end_for\n",
    "\n",
    "\treturn results\n",
    "# get_tld_for_mode()"
   ]
  },
  {
   "cell_type": "code",
   "execution_count": 44,
   "metadata": {},
   "outputs": [],
   "source": [
    "sov_tld = get_tld_for_mode(skim_omx['Length (Skim)'], trip_tables_omx, 'SOV', bins)"
   ]
  },
  {
   "cell_type": "code",
   "execution_count": 45,
   "metadata": {},
   "outputs": [
    {
     "data": {
      "text/plain": [
       "[198066.32308231122,\n",
       " 1502788.8968328047,\n",
       " 902451.9585343441,\n",
       " 682367.0491860535,\n",
       " 383909.3063226921,\n",
       " 82098.10765369986,\n",
       " 18935.982961220136]"
      ]
     },
     "execution_count": 45,
     "metadata": {},
     "output_type": "execute_result"
    }
   ],
   "source": [
    "sov_tld"
   ]
  },
  {
   "cell_type": "code",
   "execution_count": 46,
   "metadata": {},
   "outputs": [],
   "source": [
    "def plot_tld_for_mode(tld_array, bin_labels, plot_title):\n",
    "\tnames = bin_labels\n",
    "\tvalues = tld_array\n",
    "\tplt.title(plot_title)\n",
    "\tplt.xlabel('Trip Length')\n",
    "\tplt.ylabel('Number of Trips')\n",
    "\tplt.bar(names, values)\n",
    "# plot_tld_for_mode()"
   ]
  },
  {
   "cell_type": "code",
   "execution_count": 47,
   "metadata": {},
   "outputs": [
    {
     "data": {
      "image/png": "[encoded data removed]",
      "text/plain": [
       "<Figure size 432x288 with 1 Axes>"
      ]
     },
     "metadata": {
      "needs_background": "light"
     },
     "output_type": "display_data"
    }
   ],
   "source": [
    "# Trip-length distribution for SOV mode\n",
    "sov_tld = get_tld_for_mode(skim_omx['Length (Skim)'], trip_tables_omx, 'SOV', bins)\n",
    "plot_tld_for_mode(sov_tld, bin_labels, 'SOV Trip Length Distribution')"
   ]
  },
  {
   "cell_type": "code",
   "execution_count": 48,
   "metadata": {},
   "outputs": [
    {
     "data": {
      "image/png": "[encoded data removed]",
      "text/plain": [
       "<Figure size 432x288 with 1 Axes>"
      ]
     },
     "metadata": {
      "needs_background": "light"
     },
     "output_type": "display_data"
    }
   ],
   "source": [
    "# Trip-length distribution for HOV mode\n",
    "hov_tld = get_tld_for_mode(skim_omx['Length (Skim)'], trip_tables_omx, 'HOV', bins)\n",
    "plot_tld_for_mode(hov_tld, bin_labels, 'HOV Trip Length Distribution')"
   ]
  },
  {
   "cell_type": "code",
   "execution_count": 49,
   "metadata": {},
   "outputs": [
    {
     "data": {
      "image/png": "[encoded data removed]",
      "text/plain": [
       "<Figure size 432x288 with 1 Axes>"
      ]
     },
     "metadata": {
      "needs_background": "light"
     },
     "output_type": "display_data"
    }
   ],
   "source": [
    "# Trip-length distribution for Bike mode\n",
    "bike_tld = get_tld_for_mode(skim_omx['Length (Skim)'], trip_tables_omx, 'Bike', bins)\n",
    "plot_tld_for_mode(bike_tld, bin_labels, 'Bike Trip Length Distribution')"
   ]
  },
  {
   "cell_type": "code",
   "execution_count": 51,
   "metadata": {},
   "outputs": [
    {
     "data": {
      "image/png": "[encoded data removed]",
      "text/plain": [
       "<Figure size 432x288 with 1 Axes>"
      ]
     },
     "metadata": {
      "needs_background": "light"
     },
     "output_type": "display_data"
    }
   ],
   "source": [
    "# Trip-length distribution for Walk mode\n",
    "walk_tld = get_tld_for_mode(skim_omx['Length (Skim)'], trip_tables_omx, 'Walk', bins)\n",
    "plot_tld_for_mode(walk_tld, bin_labels, 'Walk Trip Length Distribution')"
   ]
  }
 ],
 "metadata": {
  "kernelspec": {
   "display_name": "Python 3",
   "language": "python",
   "name": "python3"
  },
  "language_info": {
   "codemirror_mode": {
    "name": "ipython",
    "version": 3
   },
   "file_extension": ".py",
   "mimetype": "text/x-python",
   "name": "python",
   "nbconvert_exporter": "python",
   "pygments_lexer": "ipython3",
   "version": "3.7.10"
  }
 },
 "nbformat": 4,
 "nbformat_minor": 4
}
