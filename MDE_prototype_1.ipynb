{
 "cells": [
  {
   "cell_type": "code",
   "execution_count": 1,
   "metadata": {},
   "outputs": [],
   "source": [
    "import openmatrix as omx\n",
    "import numpy as np\n",
    "import pandas as pd\n",
    "import matplotlib.pyplot as plt\n",
    "import geopandas"
   ]
  },
  {
   "cell_type": "code",
   "execution_count": 2,
   "metadata": {},
   "outputs": [
    {
     "name": "stdout",
     "output_type": "stream",
     "text": [
      "Using matplotlib backend: Qt5Agg\n"
     ]
    }
   ],
   "source": [
    "# Have matplotlib open \"plots\"  in a separate window\n",
    "%matplotlib"
   ]
  },
  {
   "cell_type": "code",
   "execution_count": 3,
   "metadata": {},
   "outputs": [],
   "source": [
    "trip_tables_file = r'C:/Users/ben_k/work_stuff/tdm/datastore/sample_data/AfterSC_Final_AM_Tables.omx'"
   ]
  },
  {
   "cell_type": "code",
   "execution_count": 4,
   "metadata": {},
   "outputs": [],
   "source": [
    "trip_tables_omx = omx.open_file(trip_tables_file, 'r')"
   ]
  },
  {
   "cell_type": "code",
   "execution_count": 5,
   "metadata": {},
   "outputs": [
    {
     "data": {
      "text/plain": [
       "['Bike',\n",
       " 'DAT_Boat',\n",
       " 'DAT_CR',\n",
       " 'DAT_LB',\n",
       " 'DAT_RT',\n",
       " 'DET_Boat',\n",
       " 'DET_CR',\n",
       " 'DET_LB',\n",
       " 'DET_RT',\n",
       " 'HOV',\n",
       " 'HOV2p',\n",
       " 'HOV3p',\n",
       " 'HOV_Person_Trips',\n",
       " 'Heavy_Truck',\n",
       " 'Heavy_Truck_HazMat',\n",
       " 'Light_Truck',\n",
       " 'Medium_Truck',\n",
       " 'Medium_Truck_HazMat',\n",
       " 'SOV',\n",
       " 'WAT',\n",
       " 'Walk']"
      ]
     },
     "execution_count": 5,
     "metadata": {},
     "output_type": "execute_result"
    }
   ],
   "source": [
    "trip_tables_omx.list_matrices()"
   ]
  },
  {
   "cell_type": "code",
   "execution_count": 6,
   "metadata": {},
   "outputs": [
    {
     "data": {
      "text/plain": [
       "(5839, 5839)"
      ]
     },
     "execution_count": 6,
     "metadata": {},
     "output_type": "execute_result"
    }
   ],
   "source": [
    "trip_tables_omx.shape()"
   ]
  },
  {
   "cell_type": "code",
   "execution_count": 7,
   "metadata": {},
   "outputs": [
    {
     "data": {
      "text/plain": [
       "['CTPS', 'ID', 'MAPC', 'extZ', 'intZ']"
      ]
     },
     "execution_count": 7,
     "metadata": {},
     "output_type": "execute_result"
    }
   ],
   "source": [
    "trip_tables_omx.list_mappings()"
   ]
  },
  {
   "cell_type": "code",
   "execution_count": 8,
   "metadata": {},
   "outputs": [],
   "source": [
    "taz_to_omxid = trip_tables_omx.mapping('ID')"
   ]
  },
  {
   "cell_type": "code",
   "execution_count": 9,
   "metadata": {},
   "outputs": [],
   "source": [
    "skim_file = r'C:/Users/ben_k/work_stuff/tdm/datastore/sample_data/AM_SOV_Skim.omx'"
   ]
  },
  {
   "cell_type": "code",
   "execution_count": 10,
   "metadata": {},
   "outputs": [],
   "source": [
    "skim_omx = omx.open_file(skim_file, 'r')"
   ]
  },
  {
   "cell_type": "code",
   "execution_count": 11,
   "metadata": {},
   "outputs": [
    {
     "data": {
      "text/plain": [
       "['Auto_Toll (Skim)',\n",
       " 'CongTime',\n",
       " 'CongTime_wTerminalTimes',\n",
       " 'Drive_Cost',\n",
       " 'LT_Toll (Skim)',\n",
       " 'Length (Skim)',\n",
       " 'TerminalTimes',\n",
       " 'Total_Cost']"
      ]
     },
     "execution_count": 11,
     "metadata": {},
     "output_type": "execute_result"
    }
   ],
   "source": [
    "skim_omx.list_matrices()"
   ]
  },
  {
   "cell_type": "code",
   "execution_count": 12,
   "metadata": {},
   "outputs": [
    {
     "data": {
      "text/plain": [
       "(5839, 5839)"
      ]
     },
     "execution_count": 12,
     "metadata": {},
     "output_type": "execute_result"
    }
   ],
   "source": [
    "skim_omx.shape()"
   ]
  },
  {
   "cell_type": "code",
   "execution_count": 13,
   "metadata": {},
   "outputs": [
    {
     "data": {
      "text/plain": [
       "['Destination', 'Origin', 'extZ', 'inCTPS', 'intZ']"
      ]
     },
     "execution_count": 13,
     "metadata": {},
     "output_type": "execute_result"
    }
   ],
   "source": [
    "skim_omx.list_mappings()"
   ]
  },
  {
   "cell_type": "code",
   "execution_count": 14,
   "metadata": {},
   "outputs": [],
   "source": [
    "# (1) Get A.M. trip length distribution by mode [SOV, HOV, Bike, Walk]\n",
    "trip_length_by_mode = {}\n",
    "modes = [ 'SOV', 'HOV', 'Bike', 'Walk']\n",
    "for mode in modes:\n",
    "    tmp1 = np.multiply(skim_omx['Length (Skim)'], trip_tables_omx[mode])\n",
    "    tmp2 = np.sum(tmp1)\n",
    "    # s = mode + ' trip length = ' + str(tmp1)\n",
    "    # print(s)\n",
    "    trip_length_by_mode[mode]= tmp2"
   ]
  },
  {
   "cell_type": "code",
   "execution_count": 16,
   "metadata": {},
   "outputs": [
    {
     "data": {
      "text/plain": [
       "<BarContainer object of 4 artists>"
      ]
     },
     "execution_count": 16,
     "metadata": {},
     "output_type": "execute_result"
    }
   ],
   "source": [
    "# (2) Plot the data as a bar chart\n",
    "names = trip_length_by_mode.keys()\n",
    "values = trip_length_by_mode.values()\n",
    "scaled_values = []\n",
    "for value in values:\n",
    "    scaled_values.append(value / 10e6)\n",
    "plt.title('Trip Length Distribution by Mode')\n",
    "plt.xlabel('Transportation Mode')\n",
    "plt.ylabel('Trip Length in 10^6 miles')\n",
    "plt.bar(names, scaled_values)\n",
    "# The following line is not needed in an IPython Notebook environment\n",
    "# plt.show()"
   ]
  },
  {
   "cell_type": "code",
   "execution_count": 17,
   "metadata": {},
   "outputs": [],
   "source": [
    "# (3) Calculate link VMT by functional class of road\n",
    "flow_fn = r'C:/Users/ben_k/work_stuff/tdm/datastore/sample_data/AM_MMA_LinkFlow.csv'\n",
    "links_fn = r'C:/Users/ben_k/work_stuff/tdm/datastore/sample_data/statewide_links_pruned.csv'\n",
    "df_flow = pd.read_csv(flow_fn, usecols=['ID1', 'Tot_Flow'], dtype={'ID1':np.int32, 'Tot_Flow':np.float64})\n",
    "df_links = pd.read_csv(links_fn, usecols=['ID', 'SCEN_00_FU'])"
   ]
  },
  {
   "cell_type": "code",
   "execution_count": 18,
   "metadata": {},
   "outputs": [],
   "source": [
    "joined_data = df_links.set_index('ID').join(df_flow.set_index('ID1'))"
   ]
  },
  {
   "cell_type": "code",
   "execution_count": 19,
   "metadata": {},
   "outputs": [],
   "source": [
    "total_flow_by_fc = joined_data.groupby('SCEN_00_FU')['Tot_Flow'].sum()"
   ]
  },
  {
   "cell_type": "code",
   "execution_count": 20,
   "metadata": {},
   "outputs": [],
   "source": [
    "fc_names = df_links.groupby(['SCEN_00_FU']).groups.keys()"
   ]
  },
  {
   "cell_type": "code",
   "execution_count": 21,
   "metadata": {},
   "outputs": [],
   "source": [
    "pruned_fc_names = []\n",
    "pruned_total_flow_by_fc = [] "
   ]
  },
  {
   "cell_type": "code",
   "execution_count": 22,
   "metadata": {},
   "outputs": [],
   "source": [
    "# Here ASERT len(fc_names) == len(total_flow_by_fc)\n",
    "if len(fc_names) != len(total_flow_by_fc):\n",
    "    print(\"Something is wrong:\")\n",
    "    s = '    Length of fc_names = ' + str(len(fc_names))\n",
    "    print(s)\n",
    "    s = '    Length of total_flow_by_fc' + str(len(total_flow_by_fc))\n",
    "    print(s)"
   ]
  },
  {
   "cell_type": "code",
   "execution_count": 23,
   "metadata": {},
   "outputs": [],
   "source": [
    "# Do the actual pruning\n",
    "for (x,y) in zip(fc_names, total_flow_by_fc):\n",
    "    if x < 10:\n",
    "        pruned_fc_names.append(x)\n",
    "        pruned_total_flow_by_fc.append(y)"
   ]
  },
  {
   "cell_type": "code",
   "execution_count": 24,
   "metadata": {},
   "outputs": [],
   "source": [
    "# (4) Generate the plot of link VMT by functional class        \n",
    "scaled_values = []\n",
    "for value in pruned_total_flow_by_fc:\n",
    "    scaled_values.append(value / 10e7)"
   ]
  },
  {
   "cell_type": "code",
   "execution_count": 25,
   "metadata": {},
   "outputs": [
    {
     "data": {
      "text/plain": [
       "<BarContainer object of 5 artists>"
      ]
     },
     "execution_count": 25,
     "metadata": {},
     "output_type": "execute_result"
    }
   ],
   "source": [
    "plt.title('Link VMT by Functional Class')\n",
    "plt.xlabel('Functional Class')\n",
    "plt.ylabel('Link VMT in 10^7 Miles')\n",
    "plt.bar(pruned_fc_names, scaled_values)\n",
    "# plt.show()"
   ]
  },
  {
   "cell_type": "code",
   "execution_count": 26,
   "metadata": {},
   "outputs": [
    {
     "data": {
      "text/plain": [
       "<AxesSubplot:>"
      ]
     },
     "execution_count": 26,
     "metadata": {},
     "output_type": "execute_result"
    }
   ],
   "source": [
    "# (5.1) Generate a map of the TAZes, symbolized by state\n",
    "base = r'C:/Users/ben_k/work_stuff/tdm/datastore/reference_data/'\n",
    "\n",
    "taz_shpfile = 'candidate_CTPS_TAZ_STATE_2019.shp'\n",
    "fn = base + taz_shpfile\n",
    "gdf = geopandas.read_file(fn)\n",
    "gdf.set_index(\"id\")\n",
    "gdf.plot(\"state\", figsize=(10.0,8.0), legend=True)"
   ]
  },
  {
   "cell_type": "code",
   "execution_count": 27,
   "metadata": {},
   "outputs": [
    {
     "data": {
      "text/plain": [
       "<AxesSubplot:>"
      ]
     },
     "execution_count": 27,
     "metadata": {},
     "output_type": "execute_result"
    }
   ],
   "source": [
    "# (5.2) Generate a map of ALL the links, symbolized by functional class\n",
    "links_shpfile = 'Statewide_Links_2018_BK_EPSG26986.shp'\n",
    "fn2 = base + links_shpfile\n",
    "gdf2 = geopandas.read_file(fn2)\n",
    "gdf2.set_index(\"ID\")\n",
    "gdf2.plot(\"SCEN_00_FU\", figsize=(10.0,8.0), legend=True)"
   ]
  },
  {
   "cell_type": "code",
   "execution_count": 28,
   "metadata": {},
   "outputs": [
    {
     "data": {
      "text/plain": [
       "<AxesSubplot:>"
      ]
     },
     "execution_count": 28,
     "metadata": {},
     "output_type": "execute_result"
    }
   ],
   "source": [
    "# (5.3) Generate a map of all links with a \"reasonable\" functional class\n",
    "real_roads = gdf2[gdf2[\"SCEN_00_FU\"] < 10]\n",
    "real_roads.plot(column=\"SCEN_00_FU\", categorical=True, legend=True, figsize=(10.0,8.0))"
   ]
  },
  {
   "cell_type": "code",
   "execution_count": 29,
   "metadata": {},
   "outputs": [],
   "source": [
    "# (5.4) Join links data for \"real roads\"to flow data on 'ID'/'ID1' fields,\n",
    "#       and generate a map of relative flow by link.\n",
    "real_roads_joined = real_roads.set_index('ID').join(df_flow.set_index('ID1'))"
   ]
  },
  {
   "cell_type": "code",
   "execution_count": 30,
   "metadata": {},
   "outputs": [
    {
     "data": {
      "text/html": [
       "<div>\n",
       "<style scoped>\n",
       "    .dataframe tbody tr th:only-of-type {\n",
       "        vertical-align: middle;\n",
       "    }\n",
       "\n",
       "    .dataframe tbody tr th {\n",
       "        vertical-align: top;\n",
       "    }\n",
       "\n",
       "    .dataframe thead th {\n",
       "        text-align: right;\n",
       "    }\n",
       "</style>\n",
       "<table border=\"1\" class=\"dataframe\">\n",
       "  <thead>\n",
       "    <tr style=\"text-align: right;\">\n",
       "      <th></th>\n",
       "      <th>DIR</th>\n",
       "      <th>LENGTH</th>\n",
       "      <th>STATE</th>\n",
       "      <th>ANODE</th>\n",
       "      <th>BNODE</th>\n",
       "      <th>TAZ_ID</th>\n",
       "      <th>STREETNAME</th>\n",
       "      <th>ROUTENUMBE</th>\n",
       "      <th>SCEN_00</th>\n",
       "      <th>SCEN_00_FU</th>\n",
       "      <th>geometry</th>\n",
       "      <th>Tot_Flow</th>\n",
       "    </tr>\n",
       "    <tr>\n",
       "      <th>ID</th>\n",
       "      <th></th>\n",
       "      <th></th>\n",
       "      <th></th>\n",
       "      <th></th>\n",
       "      <th></th>\n",
       "      <th></th>\n",
       "      <th></th>\n",
       "      <th></th>\n",
       "      <th></th>\n",
       "      <th></th>\n",
       "      <th></th>\n",
       "      <th></th>\n",
       "    </tr>\n",
       "  </thead>\n",
       "  <tbody>\n",
       "    <tr>\n",
       "      <th>200648</th>\n",
       "      <td>0</td>\n",
       "      <td>0.303488</td>\n",
       "      <td>RI</td>\n",
       "      <td>160862.0</td>\n",
       "      <td>160893.0</td>\n",
       "      <td>208448</td>\n",
       "      <td>WALLUM LAKE RD</td>\n",
       "      <td>None</td>\n",
       "      <td>1</td>\n",
       "      <td>5</td>\n",
       "      <td>LINESTRING (178534.494 860032.322, 178535.226 ...</td>\n",
       "      <td>817.206595</td>\n",
       "    </tr>\n",
       "    <tr>\n",
       "      <th>200637</th>\n",
       "      <td>0</td>\n",
       "      <td>0.051294</td>\n",
       "      <td>RI</td>\n",
       "      <td>160893.0</td>\n",
       "      <td>160894.0</td>\n",
       "      <td>208448</td>\n",
       "      <td>WALLUM LAKE RD</td>\n",
       "      <td>None</td>\n",
       "      <td>1</td>\n",
       "      <td>5</td>\n",
       "      <td>LINESTRING (178594.130 860516.853, 178595.411 ...</td>\n",
       "      <td>817.206595</td>\n",
       "    </tr>\n",
       "    <tr>\n",
       "      <th>200654</th>\n",
       "      <td>0</td>\n",
       "      <td>0.121481</td>\n",
       "      <td>RI</td>\n",
       "      <td>160871.0</td>\n",
       "      <td>160834.0</td>\n",
       "      <td>208448</td>\n",
       "      <td>WALLUM LAKE RD</td>\n",
       "      <td>None</td>\n",
       "      <td>1</td>\n",
       "      <td>5</td>\n",
       "      <td>LINESTRING (178447.503 860933.368, 178444.955 ...</td>\n",
       "      <td>817.206595</td>\n",
       "    </tr>\n",
       "    <tr>\n",
       "      <th>200617</th>\n",
       "      <td>0</td>\n",
       "      <td>0.107739</td>\n",
       "      <td>RI</td>\n",
       "      <td>160870.0</td>\n",
       "      <td>160871.0</td>\n",
       "      <td>208448</td>\n",
       "      <td>WALLUM LAKE RD</td>\n",
       "      <td>None</td>\n",
       "      <td>1</td>\n",
       "      <td>5</td>\n",
       "      <td>LINESTRING (178531.717 860781.945, 178497.785 ...</td>\n",
       "      <td>817.206595</td>\n",
       "    </tr>\n",
       "    <tr>\n",
       "      <th>200671</th>\n",
       "      <td>0</td>\n",
       "      <td>0.120546</td>\n",
       "      <td>RI</td>\n",
       "      <td>160894.0</td>\n",
       "      <td>160870.0</td>\n",
       "      <td>208448</td>\n",
       "      <td>WALLUM LAKE RD</td>\n",
       "      <td>None</td>\n",
       "      <td>1</td>\n",
       "      <td>5</td>\n",
       "      <td>LINESTRING (178592.473 860599.050, 178591.830 ...</td>\n",
       "      <td>817.206595</td>\n",
       "    </tr>\n",
       "  </tbody>\n",
       "</table>\n",
       "</div>"
      ],
      "text/plain": [
       "        DIR    LENGTH STATE     ANODE     BNODE  TAZ_ID      STREETNAME  \\\n",
       "ID                                                                        \n",
       "200648    0  0.303488    RI  160862.0  160893.0  208448  WALLUM LAKE RD   \n",
       "200637    0  0.051294    RI  160893.0  160894.0  208448  WALLUM LAKE RD   \n",
       "200654    0  0.121481    RI  160871.0  160834.0  208448  WALLUM LAKE RD   \n",
       "200617    0  0.107739    RI  160870.0  160871.0  208448  WALLUM LAKE RD   \n",
       "200671    0  0.120546    RI  160894.0  160870.0  208448  WALLUM LAKE RD   \n",
       "\n",
       "       ROUTENUMBE  SCEN_00  SCEN_00_FU  \\\n",
       "ID                                       \n",
       "200648       None        1           5   \n",
       "200637       None        1           5   \n",
       "200654       None        1           5   \n",
       "200617       None        1           5   \n",
       "200671       None        1           5   \n",
       "\n",
       "                                                 geometry    Tot_Flow  \n",
       "ID                                                                     \n",
       "200648  LINESTRING (178534.494 860032.322, 178535.226 ...  817.206595  \n",
       "200637  LINESTRING (178594.130 860516.853, 178595.411 ...  817.206595  \n",
       "200654  LINESTRING (178447.503 860933.368, 178444.955 ...  817.206595  \n",
       "200617  LINESTRING (178531.717 860781.945, 178497.785 ...  817.206595  \n",
       "200671  LINESTRING (178592.473 860599.050, 178591.830 ...  817.206595  "
      ]
     },
     "execution_count": 30,
     "metadata": {},
     "output_type": "execute_result"
    }
   ],
   "source": [
    "real_roads_joined.head()"
   ]
  },
  {
   "cell_type": "code",
   "execution_count": 31,
   "metadata": {},
   "outputs": [
    {
     "data": {
      "text/plain": [
       "<AxesSubplot:>"
      ]
     },
     "execution_count": 31,
     "metadata": {},
     "output_type": "execute_result"
    }
   ],
   "source": [
    "real_roads_joined.plot(column='Tot_Flow', legend=True, figsize=(10.0,8.0))"
   ]
  },
  {
   "cell_type": "code",
   "execution_count": 32,
   "metadata": {},
   "outputs": [
    {
     "data": {
      "text/html": [
       "<div>\n",
       "<style scoped>\n",
       "    .dataframe tbody tr th:only-of-type {\n",
       "        vertical-align: middle;\n",
       "    }\n",
       "\n",
       "    .dataframe tbody tr th {\n",
       "        vertical-align: top;\n",
       "    }\n",
       "\n",
       "    .dataframe thead th {\n",
       "        text-align: right;\n",
       "    }\n",
       "</style>\n",
       "<table border=\"1\" class=\"dataframe\">\n",
       "  <thead>\n",
       "    <tr style=\"text-align: right;\">\n",
       "      <th></th>\n",
       "      <th>DIR</th>\n",
       "      <th>LENGTH</th>\n",
       "      <th>ANODE</th>\n",
       "      <th>BNODE</th>\n",
       "      <th>TAZ_ID</th>\n",
       "      <th>SCEN_00</th>\n",
       "      <th>SCEN_00_FU</th>\n",
       "      <th>Tot_Flow</th>\n",
       "    </tr>\n",
       "  </thead>\n",
       "  <tbody>\n",
       "    <tr>\n",
       "      <th>count</th>\n",
       "      <td>152728.000000</td>\n",
       "      <td>152728.000000</td>\n",
       "      <td>152728.000000</td>\n",
       "      <td>152728.000000</td>\n",
       "      <td>152728.000000</td>\n",
       "      <td>152728.000000</td>\n",
       "      <td>152728.000000</td>\n",
       "      <td>152610.000000</td>\n",
       "    </tr>\n",
       "    <tr>\n",
       "      <th>mean</th>\n",
       "      <td>0.144414</td>\n",
       "      <td>0.109764</td>\n",
       "      <td>109229.855115</td>\n",
       "      <td>109204.677603</td>\n",
       "      <td>40573.511386</td>\n",
       "      <td>0.999293</td>\n",
       "      <td>4.670473</td>\n",
       "      <td>1878.824922</td>\n",
       "    </tr>\n",
       "    <tr>\n",
       "      <th>std</th>\n",
       "      <td>0.366519</td>\n",
       "      <td>0.167405</td>\n",
       "      <td>64579.248020</td>\n",
       "      <td>64567.152564</td>\n",
       "      <td>79521.541041</td>\n",
       "      <td>0.026583</td>\n",
       "      <td>1.287324</td>\n",
       "      <td>2022.827416</td>\n",
       "    </tr>\n",
       "    <tr>\n",
       "      <th>min</th>\n",
       "      <td>-1.000000</td>\n",
       "      <td>0.000118</td>\n",
       "      <td>0.000000</td>\n",
       "      <td>0.000000</td>\n",
       "      <td>0.000000</td>\n",
       "      <td>0.000000</td>\n",
       "      <td>1.000000</td>\n",
       "      <td>0.000000</td>\n",
       "    </tr>\n",
       "    <tr>\n",
       "      <th>25%</th>\n",
       "      <td>0.000000</td>\n",
       "      <td>0.033120</td>\n",
       "      <td>53105.750000</td>\n",
       "      <td>53119.750000</td>\n",
       "      <td>1588.000000</td>\n",
       "      <td>1.000000</td>\n",
       "      <td>3.000000</td>\n",
       "      <td>559.639001</td>\n",
       "    </tr>\n",
       "    <tr>\n",
       "      <th>50%</th>\n",
       "      <td>0.000000</td>\n",
       "      <td>0.058086</td>\n",
       "      <td>105940.500000</td>\n",
       "      <td>105884.500000</td>\n",
       "      <td>3114.000000</td>\n",
       "      <td>1.000000</td>\n",
       "      <td>5.000000</td>\n",
       "      <td>1412.003636</td>\n",
       "    </tr>\n",
       "    <tr>\n",
       "      <th>75%</th>\n",
       "      <td>0.000000</td>\n",
       "      <td>0.118499</td>\n",
       "      <td>158557.250000</td>\n",
       "      <td>158519.250000</td>\n",
       "      <td>5536.000000</td>\n",
       "      <td>1.000000</td>\n",
       "      <td>6.000000</td>\n",
       "      <td>2572.433132</td>\n",
       "    </tr>\n",
       "    <tr>\n",
       "      <th>max</th>\n",
       "      <td>1.000000</td>\n",
       "      <td>4.456859</td>\n",
       "      <td>231106.000000</td>\n",
       "      <td>231106.000000</td>\n",
       "      <td>208992.000000</td>\n",
       "      <td>1.000000</td>\n",
       "      <td>6.000000</td>\n",
       "      <td>28912.072058</td>\n",
       "    </tr>\n",
       "  </tbody>\n",
       "</table>\n",
       "</div>"
      ],
      "text/plain": [
       "                 DIR         LENGTH          ANODE          BNODE  \\\n",
       "count  152728.000000  152728.000000  152728.000000  152728.000000   \n",
       "mean        0.144414       0.109764  109229.855115  109204.677603   \n",
       "std         0.366519       0.167405   64579.248020   64567.152564   \n",
       "min        -1.000000       0.000118       0.000000       0.000000   \n",
       "25%         0.000000       0.033120   53105.750000   53119.750000   \n",
       "50%         0.000000       0.058086  105940.500000  105884.500000   \n",
       "75%         0.000000       0.118499  158557.250000  158519.250000   \n",
       "max         1.000000       4.456859  231106.000000  231106.000000   \n",
       "\n",
       "              TAZ_ID        SCEN_00     SCEN_00_FU       Tot_Flow  \n",
       "count  152728.000000  152728.000000  152728.000000  152610.000000  \n",
       "mean    40573.511386       0.999293       4.670473    1878.824922  \n",
       "std     79521.541041       0.026583       1.287324    2022.827416  \n",
       "min         0.000000       0.000000       1.000000       0.000000  \n",
       "25%      1588.000000       1.000000       3.000000     559.639001  \n",
       "50%      3114.000000       1.000000       5.000000    1412.003636  \n",
       "75%      5536.000000       1.000000       6.000000    2572.433132  \n",
       "max    208992.000000       1.000000       6.000000   28912.072058  "
      ]
     },
     "execution_count": 32,
     "metadata": {},
     "output_type": "execute_result"
    }
   ],
   "source": [
    "real_roads_joined.describe()"
   ]
  },
  {
   "cell_type": "code",
   "execution_count": 33,
   "metadata": {},
   "outputs": [],
   "source": [
    "def classify_flow(flow):\n",
    "\tretval = 0\n",
    "\tif flow == None:\n",
    "\t\tretval = 0\n",
    "\telif flow < 100.0:\n",
    "\t\tretval = 1\n",
    "\telif flow < 500.0:\n",
    "\t\tretval = 2\n",
    "\telif flow < 1000.0:\n",
    "\t\tretval = 3\n",
    "\telif flow < 5000.0:\n",
    "\t\tretval = 4\n",
    "\telif flow < 10000.0:\n",
    "\t\tretval = 5\n",
    "\telse:\n",
    "\t\tretval = 6\n",
    "\t# end_if\n",
    "\treturn retval\n",
    "# end_def "
   ]
  },
  {
   "cell_type": "code",
   "execution_count": 34,
   "metadata": {},
   "outputs": [],
   "source": [
    "rv = real_roads_joined.assign(flow_class=0)"
   ]
  },
  {
   "cell_type": "code",
   "execution_count": 35,
   "metadata": {},
   "outputs": [],
   "source": [
    "rv['flow_class'] = rv.apply(lambda row:classify_flow(row['Tot_Flow']), axis=1)"
   ]
  },
  {
   "cell_type": "code",
   "execution_count": 36,
   "metadata": {},
   "outputs": [
    {
     "data": {
      "text/plain": [
       "<AxesSubplot:>"
      ]
     },
     "execution_count": 36,
     "metadata": {},
     "output_type": "execute_result"
    }
   ],
   "source": [
    "# (5.5) Generate a map of 6-way classifcation of flow by link\n",
    "rv.plot(column=\"flow_class\", categorical=True, legend=True, figsize=(10.0,8.0))"
   ]
  },
  {
   "cell_type": "code",
   "execution_count": 37,
   "metadata": {},
   "outputs": [
    {
     "data": {
      "text/plain": [
       "<AxesSubplot:>"
      ]
     },
     "execution_count": 37,
     "metadata": {},
     "output_type": "execute_result"
    }
   ],
   "source": [
    "# (5.6) Generate a map of the geometrically \"simplified\" TAZes, symbolized by state\n",
    "simp_taz_shpfile = 'candidate_CTPS_TAZ_STATE_2019_simp_10m.shp'\n",
    "fn3 = base + simp_taz_shpfile\n",
    "gdf3 = geopandas.read_file(fn3)\n",
    "gdf3.set_index(\"id\")\n",
    "gdf3.plot(\"state\", figsize=(10.0,8.0), legend=True)"
   ]
  },
  {
   "cell_type": "code",
   "execution_count": 38,
   "metadata": {},
   "outputs": [
    {
     "data": {
      "text/plain": [
       "<AxesSubplot:>"
      ]
     },
     "execution_count": 38,
     "metadata": {},
     "output_type": "execute_result"
    }
   ],
   "source": [
    "# (5.7) Generate a map of ALL the geometrically \"simplified\" links symbolized by functional class\n",
    "simp_links_shpfile = 'Statewide_Links_2018_BK_EPSG26986_simp_10m.shp'\n",
    "fn4 = base + simp_links_shpfile\n",
    "gdf4 = geopandas.read_file(fn4)\n",
    "gdf4.plot(\"SCEN_00_FU\", figsize=(10.0,8.0), legend=True)"
   ]
  },
  {
   "cell_type": "code",
   "execution_count": 39,
   "metadata": {},
   "outputs": [
    {
     "data": {
      "text/plain": [
       "<AxesSubplot:>"
      ]
     },
     "execution_count": 39,
     "metadata": {},
     "output_type": "execute_result"
    }
   ],
   "source": [
    "# (5.8) Generate a map of all the \"simplified\" links with a \"reasonable\" functional class\n",
    "real_roads_simp = gdf4[gdf4[\"SCEN_00_FU\"] < 10]\n",
    "real_roads_simp.plot(column=\"SCEN_00_FU\", categorical=True, legend=True, figsize=(10.0,8.0))"
   ]
  },
  {
   "cell_type": "code",
   "execution_count": 40,
   "metadata": {},
   "outputs": [
    {
     "data": {
      "text/plain": [
       "<AxesSubplot:>"
      ]
     },
     "execution_count": 40,
     "metadata": {},
     "output_type": "execute_result"
    }
   ],
   "source": [
    "# (5.9) Join links data for simplified \"real roads\" to flow data on 'ID'/'ID1' fields,\n",
    "#\t\tand generate a map of 6-way classifcation of flow by link\n",
    "real_roads_simp_joined = real_roads_simp.set_index('ID').join(df_flow.set_index('ID1'))\n",
    "real_roads_simp_joined2 = real_roads_simp_joined.assign(flow_class=0)\n",
    "real_roads_simp_joined2['flow_class'] = real_roads_simp_joined2.apply(lambda row: classify_flow(row['Tot_Flow']), axis=1)\n",
    "real_roads_simp_joined2.plot(column=\"flow_class\", categorical=True, legend=True, figsize=(10.0,8.0))"
   ]
  },
  {
   "cell_type": "code",
   "execution_count": 41,
   "metadata": {},
   "outputs": [
    {
     "data": {
      "text/plain": [
       "<AxesSubplot:>"
      ]
     },
     "execution_count": 41,
     "metadata": {},
     "output_type": "execute_result"
    }
   ],
   "source": [
    "# (5.10) Same as 5.9, but using a somewhat more meaningful symbolization.\n",
    "cmap = plt.get_cmap('jet', 7)\n",
    "real_roads_simp_joined2.plot(column=\"flow_class\", categorical=True, cmap=cmap, legend=True, figsize=(10.0,8.0))"
   ]
  },
  {
   "cell_type": "code",
   "execution_count": 42,
   "metadata": {},
   "outputs": [
    {
     "data": {
      "text/plain": [
       "<AxesSubplot:>"
      ]
     },
     "execution_count": 42,
     "metadata": {},
     "output_type": "execute_result"
    }
   ],
   "source": [
    "# (5.11) Let's try do to a bit more of a professional job...\n",
    "from matplotlib.colors import ListedColormap, LinearSegmentedColormap\n",
    "col_dict = { 1 : \"gray\", 2 : \"blue\", 3 : \"green\", 4 : \"goldenrod\", 5 : \"orangered\", 6 : \"red\" }\n",
    "cmap2 = ListedColormap([col_dict[x] for x in col_dict.keys()])\n",
    "real_roads_simp_joined2.plot(column=\"flow_class\", categorical=True, cmap=cmap2, legend=True, figsize=(10.0,8.0))"
   ]
  },
  {
   "cell_type": "code",
   "execution_count": null,
   "metadata": {},
   "outputs": [],
   "source": []
  }
 ],
 "metadata": {
  "kernelspec": {
   "display_name": "Python 3",
   "language": "python",
   "name": "python3"
  },
  "language_info": {
   "codemirror_mode": {
    "name": "ipython",
    "version": 3
   },
   "file_extension": ".py",
   "mimetype": "text/x-python",
   "name": "python",
   "nbconvert_exporter": "python",
   "pygments_lexer": "ipython3",
   "version": "3.7.10"
  }
 },
 "nbformat": 4,
 "nbformat_minor": 4
}
